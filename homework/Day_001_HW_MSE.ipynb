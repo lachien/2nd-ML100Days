{
 "cells": [
  {
   "cell_type": "code",
   "execution_count": null,
   "metadata": {},
   "outputs": [],
   "source": [
    "def HW1_MSE(Y,Y_hat):\n",
    "    n_max=len(Y)\n",
    "    Temp_M=0\n",
    "    for n in range(0,n_max):\n",
    "        T=Y[n]-Y_hat[n]\n",
    "        Temp_M=T*T+Temp_M\n",
    "\n",
    "    Temp_M=Temp_M/n_max\n",
    "    print('MSE=',Temp_M)"
   ]
  }
 ],
 "metadata": {
  "kernelspec": {
   "display_name": "Python 3",
   "language": "python",
   "name": "python3"
  },
  "language_info": {
   "codemirror_mode": {
    "name": "ipython",
    "version": 3
   },
   "file_extension": ".py",
   "mimetype": "text/x-python",
   "name": "python",
   "nbconvert_exporter": "python",
   "pygments_lexer": "ipython3",
   "version": "3.7.1"
  }
 },
 "nbformat": 4,
 "nbformat_minor": 2
}
